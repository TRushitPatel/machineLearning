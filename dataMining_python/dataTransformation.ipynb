{
 "cells": [
  {
   "cell_type": "markdown",
   "metadata": {},
   "source": [
    "# min-max"
   ]
  },
  {
   "cell_type": "code",
   "execution_count": 25,
   "metadata": {},
   "outputs": [
    {
     "data": {
      "text/plain": [
       "[90, 94, 98, 102, 106, 105, 109, 113, 117, 121, 120]"
      ]
     },
     "execution_count": 25,
     "metadata": {},
     "output_type": "execute_result"
    }
   ],
   "source": [
    "a=[i+i%5+i*2 for i in range(30,41)]\n",
    "a"
   ]
  },
  {
   "cell_type": "code",
   "execution_count": 28,
   "metadata": {
    "scrolled": true
   },
   "outputs": [
    {
     "data": {
      "text/plain": [
       "[0.0,\n",
       " 0.12903225806451613,\n",
       " 0.25806451612903225,\n",
       " 0.3870967741935484,\n",
       " 0.5161290322580645,\n",
       " 0.4838709677419355,\n",
       " 0.6129032258064516,\n",
       " 0.7419354838709677,\n",
       " 0.8709677419354839,\n",
       " 1.0,\n",
       " 0.967741935483871]"
      ]
     },
     "execution_count": 28,
     "metadata": {},
     "output_type": "execute_result"
    }
   ],
   "source": [
    "newMin=0\n",
    "\n",
    "newMax=1\n",
    "oldMin=min(a)\n",
    "oldMin\n",
    "oldMax=max(a)\n",
    "cnt=0\n",
    "newA=[(i-oldMin)/(oldMax-oldMin)+newMin for i in a]\n",
    "newA"
   ]
  },
  {
   "cell_type": "markdown",
   "metadata": {},
   "source": [
    "# z-score"
   ]
  },
  {
   "cell_type": "code",
   "execution_count": 36,
   "metadata": {},
   "outputs": [
    {
     "data": {
      "text/plain": [
       "[-1.7023418645730555,\n",
       " -1.2974605562421664,\n",
       " -0.8925792479112774,\n",
       " -0.4876979395803885,\n",
       " -0.08281663124949949,\n",
       " -0.18403695833222175,\n",
       " 0.22084434999866723,\n",
       " 0.6257256583295562,\n",
       " 1.0306069666604452,\n",
       " 1.4354882749913342,\n",
       " 1.334267947908612]"
      ]
     },
     "execution_count": 36,
     "metadata": {},
     "output_type": "execute_result"
    }
   ],
   "source": [
    "import numpy as np\n",
    "avg=np.mean(a)\n",
    "std=np.std(a)\n",
    "newA=[(i-avg)/std for i in a]\n",
    "newA"
   ]
  },
  {
   "cell_type": "markdown",
   "metadata": {},
   "source": [
    "# Decimal scaling"
   ]
  },
  {
   "cell_type": "code",
   "execution_count": null,
   "metadata": {},
   "outputs": [],
   "source": []
  }
 ],
 "metadata": {
  "kernelspec": {
   "display_name": "Python 3",
   "language": "python",
   "name": "python3"
  },
  "language_info": {
   "codemirror_mode": {
    "name": "ipython",
    "version": 3
   },
   "file_extension": ".py",
   "mimetype": "text/x-python",
   "name": "python",
   "nbconvert_exporter": "python",
   "pygments_lexer": "ipython3",
   "version": "3.6.4"
  }
 },
 "nbformat": 4,
 "nbformat_minor": 2
}
