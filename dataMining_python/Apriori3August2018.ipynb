{
 "cells": [
  {
   "cell_type": "markdown",
   "metadata": {},
   "source": [
    "  # Apriori algorithm\n",
    "a,c,d   b,c,e    a,b,c,e    b,e\n",
    "con=70%\n",
    "support =2"
   ]
  },
  {
   "cell_type": "code",
   "execution_count": 1,
   "metadata": {},
   "outputs": [],
   "source": [
    "import numpy as np"
   ]
  },
  {
   "cell_type": "code",
   "execution_count": 2,
   "metadata": {},
   "outputs": [],
   "source": [
    "listOfList=[['a','c','d'],['b','c','e'],['a','b','c','e'],['b','e']]"
   ]
  },
  {
   "cell_type": "code",
   "execution_count": 3,
   "metadata": {},
   "outputs": [],
   "source": [
    "minSupport=2\n",
    "minConfidence=70"
   ]
  },
  {
   "cell_type": "code",
   "execution_count": 4,
   "metadata": {},
   "outputs": [],
   "source": [
    "items=['a','b','c','d','e']"
   ]
  },
  {
   "cell_type": "markdown",
   "metadata": {},
   "source": [
    "check whether a set is in another set??\n",
    "step 1 \n",
    "    check all element of 1 set in another set\n",
    "    this will result in a set containing true and false values\n",
    "    True==available\n",
    "    Fale==not availabe\n",
    "    \n",
    "    by function np.isin(a,b)\n",
    "    is a in b??\n",
    "step2\n",
    "    check whether all elements of output is true??\n",
    "    by function all()\n",
    "    "
   ]
  },
  {
   "cell_type": "code",
   "execution_count": 5,
   "metadata": {
    "scrolled": false
   },
   "outputs": [
    {
     "name": "stdout",
     "output_type": "stream",
     "text": [
      "['a']\n",
      "2\n",
      "['b']\n",
      "3\n",
      "['c']\n",
      "3\n",
      "['e']\n",
      "3\n",
      "['a', 'c']\n",
      "2\n",
      "['b', 'c']\n",
      "2\n",
      "['b', 'e']\n",
      "3\n",
      "['c', 'e']\n",
      "2\n",
      "['b', 'c', 'e']\n",
      "2\n",
      "[(['a'], 2), (['b'], 3), (['c'], 3), (['e'], 3), (['a', 'c'], 2), (['b', 'c'], 2), (['b', 'e'], 3), (['c', 'e'], 2), (['b', 'c', 'e'], 2)]\n"
     ]
    }
   ],
   "source": [
    "from itertools import combinations\n",
    "\n",
    "a=[]\n",
    "freq=[0 for i in range(200)]\n",
    "tempA=[]\n",
    "tempFreq=[]\n",
    "temp=[]\n",
    "for x in range(200):\n",
    "    freq[x]=0\n",
    "\n",
    "for i in range(1,5):\n",
    "    indexer=0\n",
    "\n",
    "    for j in combinations(items, i):# this function returns combinations of size i\n",
    "        a.append(list(j))#append newly generated combination to list\n",
    "        for k in listOfList:# listOfList contains all itemset\n",
    "            if all(np.isin(j,k)):# all() checks all values of list is true or not    while isin provides true if j-array-element contains k-array-element value  in\n",
    "                                 # form of array like this..[true ,false, true, true]\n",
    "                freq[indexer]+=1# increase frequency if match found\n",
    "        \n",
    "        indexer+=1#increase index for next set\n",
    "        \n",
    "    ### print only those which follow minSupport\n",
    "    for supportIndex in range(len(a)):\n",
    "        \n",
    "        if freq[supportIndex]>=minSupport:\n",
    "            print(a[supportIndex])\n",
    "            print(freq[supportIndex])#print freq array upto lenth of a\n",
    "            temp.append((a[supportIndex], freq[supportIndex]))\n",
    "            \n",
    "    a[:]=[]#emptying array to use in next iteration\n",
    "    \n",
    "    for x in range(100):\n",
    "        freq[x]=0\n",
    "        \n",
    "print(temp)"
   ]
  },
  {
   "cell_type": "markdown",
   "metadata": {},
   "source": [
    "## conclusion\n",
    "    items in each above array in answer are bought together "
   ]
  },
  {
   "cell_type": "markdown",
   "metadata": {},
   "source": [
    "## confidence value counting"
   ]
  },
  {
   "cell_type": "code",
   "execution_count": 6,
   "metadata": {},
   "outputs": [],
   "source": [
    "temp=temp[-1]\n",
    "finalList=temp"
   ]
  },
  {
   "cell_type": "code",
   "execution_count": 15,
   "metadata": {},
   "outputs": [
    {
     "data": {
      "text/plain": [
       "(['b', 'c', 'e'], 2)"
      ]
     },
     "execution_count": 15,
     "metadata": {},
     "output_type": "execute_result"
    }
   ],
   "source": [
    "finalList"
   ]
  },
  {
   "cell_type": "code",
   "execution_count": null,
   "metadata": {},
   "outputs": [],
   "source": []
  },
  {
   "cell_type": "code",
   "execution_count": null,
   "metadata": {},
   "outputs": [],
   "source": []
  }
 ],
 "metadata": {
  "kernelspec": {
   "display_name": "Python 3",
   "language": "python",
   "name": "python3"
  },
  "language_info": {
   "codemirror_mode": {
    "name": "ipython",
    "version": 3
   },
   "file_extension": ".py",
   "mimetype": "text/x-python",
   "name": "python",
   "nbconvert_exporter": "python",
   "pygments_lexer": "ipython3",
   "version": "3.6.4"
  }
 },
 "nbformat": 4,
 "nbformat_minor": 2
}
